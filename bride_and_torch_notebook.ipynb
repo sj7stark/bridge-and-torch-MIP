{
 "cells": [
  {
   "cell_type": "markdown",
   "metadata": {},
   "source": [
    "# Solving a Bridge and Torch Problem using Integer Linear Programming (ILP)"
   ]
  },
  {
   "cell_type": "markdown",
   "metadata": {},
   "source": [
    "# Introduciton"
   ]
  },
  {
   "cell_type": "markdown",
   "metadata": {},
   "source": [
    "Suppose 4 individuals need to cross a bridge. Its dark though, so they need to take a lantern with them in order to cross. Additionally, the bridge can only support up to 2 people crossing at a time. How should the 4 individuals move across the bridge such that the total time it takes for everyone to the end is finished?"
   ]
  },
  {
   "cell_type": "markdown",
   "metadata": {},
   "source": [
    "## More Information"
   ]
  },
  {
   "cell_type": "markdown",
   "metadata": {},
   "source": [
    "For more information about this problem, feel free to check out the Wikipedia page: https://en.wikipedia.org/wiki/Bridge_and_torch_problem."
   ]
  },
  {
   "cell_type": "markdown",
   "metadata": {},
   "source": [
    "# Imports"
   ]
  },
  {
   "cell_type": "code",
   "execution_count": null,
   "metadata": {},
   "outputs": [],
   "source": [
    "from docplex.mp.model import Model\n",
    "import pandas as pd"
   ]
  },
  {
   "cell_type": "markdown",
   "metadata": {},
   "source": [
    "# Input Data"
   ]
  },
  {
   "cell_type": "markdown",
   "metadata": {},
   "source": [
    "## Sets"
   ]
  },
  {
   "cell_type": "markdown",
   "metadata": {},
   "source": [
    "$i \\in I$: The set of people crossing the bridge"
   ]
  },
  {
   "cell_type": "code",
   "execution_count": null,
   "metadata": {},
   "outputs": [],
   "source": [
    "I = ['A', 'B', 'C', 'D']"
   ]
  },
  {
   "cell_type": "markdown",
   "metadata": {},
   "source": [
    "$t \\in T$: The set of time periods\n",
    "\n"
   ]
  },
  {
   "cell_type": "markdown",
   "metadata": {},
   "source": [
    "The number of time periods for everyone to cross the bridge:\n",
    "* 1 Person: 1\n",
    "* 2 People: 2\n",
    "* 3 People: 3\n",
    "* 4 People: 5\n",
    "* 5 People: 7\n",
    "* 6 People: 9\n",
    "* 7 People: 11\n",
    "\n",
    "Excluding the uninteresting cases of having 2 or fewer people, the number time periods we need is:\n",
    "\n",
    "$2*len(I)-2$ \n",
    "\n",
    "where $len(I)$ is the number of people that need to cross"
   ]
  },
  {
   "cell_type": "code",
   "execution_count": null,
   "metadata": {},
   "outputs": [],
   "source": [
    "T = [x for x in range(2*len(I)-2)]"
   ]
  },
  {
   "cell_type": "markdown",
   "metadata": {},
   "source": [
    "## Parameters"
   ]
  },
  {
   "cell_type": "markdown",
   "metadata": {},
   "source": [
    "$c_{i}$: The time it takes person $i \\in I$ to cross the bridge"
   ]
  },
  {
   "cell_type": "code",
   "execution_count": null,
   "metadata": {},
   "outputs": [],
   "source": [
    "c = {\n",
    "    'A': 1,\n",
    "    'B': 2,\n",
    "    'C': 5,\n",
    "    'D': 8\n",
    "}"
   ]
  },
  {
   "cell_type": "markdown",
   "metadata": {},
   "source": [
    "# Optimization Model "
   ]
  },
  {
   "cell_type": "markdown",
   "metadata": {},
   "source": [
    "## Create a CPLEX model object"
   ]
  },
  {
   "cell_type": "code",
   "execution_count": null,
   "metadata": {},
   "outputs": [],
   "source": [
    "# create a model object\n",
    "bridge_model = Model(name='bridge+torch')"
   ]
  },
  {
   "cell_type": "markdown",
   "metadata": {},
   "source": [
    "## Decision Variables"
   ]
  },
  {
   "cell_type": "markdown",
   "metadata": {},
   "source": [
    "$x_{it}$: $1$ if person $i \\in I$ crosses the bridge at time $t \\in \\{1, ..., |T|\\}$ and $0$ otherwise "
   ]
  },
  {
   "cell_type": "code",
   "execution_count": null,
   "metadata": {},
   "outputs": [],
   "source": [
    "x = bridge_model.binary_var_dict(keys = [(i, t) for i in I for t in T[1:]], name=\"x\")"
   ]
  },
  {
   "cell_type": "markdown",
   "metadata": {},
   "source": [
    "$s_{it}$: $1$ if person $i \\in I$ is at the start of the bridge at time $t \\in T$ and $0$ otherwise "
   ]
  },
  {
   "cell_type": "code",
   "execution_count": null,
   "metadata": {},
   "outputs": [],
   "source": [
    "s = bridge_model.binary_var_dict(keys = [(i, t) for i in I for t in T], name=\"s\")"
   ]
  },
  {
   "cell_type": "markdown",
   "metadata": {},
   "source": [
    "$f_{it}$: $1$ if person $i \\in I$ is at the end (finish line) of the bridge at time $t \\in T$ and $0$ otherwise "
   ]
  },
  {
   "cell_type": "code",
   "execution_count": null,
   "metadata": {},
   "outputs": [],
   "source": [
    "f = bridge_model.binary_var_dict(keys = [(i, t) for i in I for t in T], name=\"f\")"
   ]
  },
  {
   "cell_type": "markdown",
   "metadata": {},
   "source": [
    "$w_{t}$: The time spent traveling across the bridge at $t \\in \\{1,..|T|\\}$ "
   ]
  },
  {
   "cell_type": "code",
   "execution_count": null,
   "metadata": {},
   "outputs": [],
   "source": [
    "w = bridge_model.continuous_var_dict(keys = [t for t in T], name=\"w\")"
   ]
  },
  {
   "cell_type": "markdown",
   "metadata": {},
   "source": [
    "## Objective Function"
   ]
  },
  {
   "cell_type": "markdown",
   "metadata": {},
   "source": [
    "Minimize total walking time:\n",
    "\n",
    "$minimize \\quad \\sum_{t = 1}^{|T|} w_{t}$"
   ]
  },
  {
   "cell_type": "code",
   "execution_count": null,
   "metadata": {},
   "outputs": [],
   "source": [
    "total_walk_time = bridge_model.sum(w[t] for t in T[1:])\n",
    "bridge_model.minimize(total_walk_time)"
   ]
  },
  {
   "cell_type": "markdown",
   "metadata": {},
   "source": [
    "## Constraints"
   ]
  },
  {
   "cell_type": "markdown",
   "metadata": {},
   "source": [
    "Everyone starts at the beginning\n",
    "\n",
    "$s_{i0} = 1, \\quad \\forall i \\in I$"
   ]
  },
  {
   "cell_type": "code",
   "execution_count": null,
   "metadata": {},
   "outputs": [],
   "source": [
    "bridge_model.add_constraints(s[(i,0)] == 1 for i in I)"
   ]
  },
  {
   "cell_type": "markdown",
   "metadata": {},
   "source": [
    "Everyone ends at the end of the bridge/finish line\n",
    "\n",
    "$f_{i|T|} = 1, \\quad \\forall i \\in I$\n",
    "\n"
   ]
  },
  {
   "cell_type": "code",
   "execution_count": null,
   "metadata": {},
   "outputs": [],
   "source": [
    "bridge_model.add_constraints(f[(i,T[-1])] == 1 for i in I)"
   ]
  },
  {
   "cell_type": "markdown",
   "metadata": {},
   "source": [
    "Odd time periods always result in 2 people crossing\n",
    "\n",
    "$\\sum_{i \\in I}x_{it} = 2, \\quad \\forall$ odd $t \\in T$"
   ]
  },
  {
   "cell_type": "code",
   "execution_count": null,
   "metadata": {},
   "outputs": [],
   "source": [
    "bridge_model.add_constraints(bridge_model.sum(x[(i,t)] for i in I) == 2 for t in T if t % 2 == 1)"
   ]
  },
  {
   "cell_type": "markdown",
   "metadata": {},
   "source": [
    "Even time periods always result in 1 person crossing\n",
    "\n",
    "$\\sum_{i \\in I}x_{it} = 1, \\quad \\forall$ even nonzero $t \\in T$"
   ]
  },
  {
   "cell_type": "code",
   "execution_count": null,
   "metadata": {},
   "outputs": [],
   "source": [
    "bridge_model.add_constraints(bridge_model.sum(x[(i,t)] for i in I) == 1 for t in T[1:] if t % 2 == 0)"
   ]
  },
  {
   "cell_type": "markdown",
   "metadata": {},
   "source": [
    "Each person is at the start or end at the end of each time period\n",
    "\n",
    "$s_{it} + f_{it} = 1, \\quad \\forall i \\in i, \\space t \\in T$"
   ]
  },
  {
   "cell_type": "code",
   "execution_count": null,
   "metadata": {},
   "outputs": [],
   "source": [
    "bridge_model.add_constraints(s[(i,t)] + f[(i,t)] == 1 for i in I for t in T)"
   ]
  },
  {
   "cell_type": "markdown",
   "metadata": {},
   "source": [
    "The travel time at time $t \\in T$ is the travel time of the slower walker"
   ]
  },
  {
   "cell_type": "markdown",
   "metadata": {},
   "source": [
    "$w_{t} \\ge c_{i}x_{it}, \\quad \\forall i \\in I, \\space t \\in T$"
   ]
  },
  {
   "cell_type": "code",
   "execution_count": null,
   "metadata": {},
   "outputs": [],
   "source": [
    "bridge_model.add_constraints(w[t] >= c[i]*x[(i,t)] for i in I for t in T[1:])\n"
   ]
  },
  {
   "cell_type": "markdown",
   "metadata": {},
   "source": [
    "Logic for connecting x variables to f and p variables\n",
    "\n",
    "$f_{p(t-1)} + x_{pt} = f_{pt}, \\quad \\forall$ odd $t \\in T$\n",
    "\n",
    "$s_{p(t-1)} + x_{pt} = s_{pt}, \\quad \\forall$ nonzero even $t \\in T$"
   ]
  },
  {
   "cell_type": "code",
   "execution_count": null,
   "metadata": {},
   "outputs": [],
   "source": [
    "bridge_model.add_constraints(f[(i,t-1)] + x[(i,t)] == f[(i,t)] for i in I for t in T if t % 2 == 1)\n",
    "bridge_model.add_constraints(s[(i,t-1)] + x[(i,t)] == s[(i,t)] for i in I for t in T[1:] if t % 2 == 0)"
   ]
  },
  {
   "cell_type": "markdown",
   "metadata": {},
   "source": [
    "# Solve the problem"
   ]
  },
  {
   "cell_type": "code",
   "execution_count": null,
   "metadata": {},
   "outputs": [],
   "source": [
    "bridge_model.solve()"
   ]
  },
  {
   "cell_type": "markdown",
   "metadata": {},
   "source": [
    "## Objective Function Value"
   ]
  },
  {
   "cell_type": "code",
   "execution_count": null,
   "metadata": {},
   "outputs": [],
   "source": [
    "bridge_model.solution.objective_value"
   ]
  },
  {
   "cell_type": "markdown",
   "metadata": {},
   "source": [
    "## Who crosses at each time"
   ]
  },
  {
   "cell_type": "code",
   "execution_count": null,
   "metadata": {},
   "outputs": [],
   "source": [
    "x_values = bridge_model.solution.get_value_df(x)\n",
    "x_values.loc[x_values.value == 1].rename(columns={\"key_1\":\"Person\",\"key_2\":\"Time Period\"})[[\"Time Period\",\"Person\"]].sort_values('Time Period')"
   ]
  },
  {
   "cell_type": "markdown",
   "metadata": {},
   "source": [
    "## Send Results to JSON"
   ]
  },
  {
   "cell_type": "code",
   "execution_count": null,
   "metadata": {},
   "outputs": [],
   "source": [
    "bridge_model.solution.export(\"bridge_and_torch_solution.json\")"
   ]
  }
 ],
 "metadata": {
  "kernelspec": {
   "display_name": "Python 3.10.4 ('py_cplex')",
   "language": "python",
   "name": "python3"
  },
  "language_info": {
   "codemirror_mode": {
    "name": "ipython",
    "version": 3
   },
   "file_extension": ".py",
   "mimetype": "text/x-python",
   "name": "python",
   "nbconvert_exporter": "python",
   "pygments_lexer": "ipython3",
   "version": "3.10.4"
  },
  "orig_nbformat": 4,
  "vscode": {
   "interpreter": {
    "hash": "4ad4e50790df1adc290194063a38ddab9b784578b3268fc04e81ab0a0ab2d055"
   }
  }
 },
 "nbformat": 4,
 "nbformat_minor": 2
}
