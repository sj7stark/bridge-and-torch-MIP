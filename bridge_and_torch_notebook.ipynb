{
 "cells": [
  {
   "cell_type": "markdown",
   "metadata": {},
   "source": [
    "# Solving a Bridge and Torch Problem using Integer Linear Programming (ILP)"
   ]
  },
  {
   "cell_type": "markdown",
   "metadata": {},
   "source": [
    "# Introduciton"
   ]
  },
  {
   "cell_type": "markdown",
   "metadata": {},
   "source": [
    "Suppose 4 individuals need to cross a bridge. Its dark though, so they need to take a lantern with them in order to cross. Additionally, the bridge can only support up to 2 people crossing at a time. How should the 4 individuals move across the bridge such that the total time it takes for everyone to the end is finished?"
   ]
  },
  {
   "cell_type": "markdown",
   "metadata": {},
   "source": [
    "## More Information"
   ]
  },
  {
   "cell_type": "markdown",
   "metadata": {},
   "source": [
    "For more information about this problem, feel free to check out the Wikipedia page: https://en.wikipedia.org/wiki/Bridge_and_torch_problem."
   ]
  },
  {
   "cell_type": "markdown",
   "metadata": {},
   "source": [
    "# Imports"
   ]
  },
  {
   "cell_type": "code",
   "execution_count": 1,
   "metadata": {},
   "outputs": [],
   "source": [
    "from docplex.mp.model import Model\n",
    "import pandas as pd"
   ]
  },
  {
   "cell_type": "markdown",
   "metadata": {},
   "source": [
    "# Input Data"
   ]
  },
  {
   "cell_type": "markdown",
   "metadata": {},
   "source": [
    "## Sets"
   ]
  },
  {
   "cell_type": "markdown",
   "metadata": {},
   "source": [
    "$i \\in I$: The set of people crossing the bridge"
   ]
  },
  {
   "cell_type": "code",
   "execution_count": 2,
   "metadata": {},
   "outputs": [],
   "source": [
    "I = ['A', 'B', 'C', 'D']"
   ]
  },
  {
   "cell_type": "markdown",
   "metadata": {},
   "source": [
    "$t \\in T$: The set of time periods\n",
    "\n"
   ]
  },
  {
   "cell_type": "markdown",
   "metadata": {},
   "source": [
    "The number of time periods for everyone to cross the bridge:\n",
    "* 1 Person: 1\n",
    "* 2 People: 2\n",
    "* 3 People: 3\n",
    "* 4 People: 5\n",
    "* 5 People: 7\n",
    "* 6 People: 9\n",
    "* 7 People: 11\n",
    "\n",
    "Excluding the uninteresting cases of having 2 or fewer people, the number time periods we need is:\n",
    "\n",
    "$2*len(I)-3$ \n",
    "\n",
    "where $len(I)$ is the number of people that need to cross"
   ]
  },
  {
   "cell_type": "code",
   "execution_count": 3,
   "metadata": {},
   "outputs": [],
   "source": [
    "T = [x for x in range(2*len(I)-2)]"
   ]
  },
  {
   "cell_type": "markdown",
   "metadata": {},
   "source": [
    "## Parameters"
   ]
  },
  {
   "cell_type": "markdown",
   "metadata": {},
   "source": [
    "$c_{i}$: The time it takes person $i \\in I$ to cross the bridge"
   ]
  },
  {
   "cell_type": "code",
   "execution_count": 4,
   "metadata": {},
   "outputs": [],
   "source": [
    "c = {\n",
    "    'A': 1,\n",
    "    'B': 2,\n",
    "    'C': 5,\n",
    "    'D': 8\n",
    "}"
   ]
  },
  {
   "cell_type": "markdown",
   "metadata": {},
   "source": [
    "# Optimization Model "
   ]
  },
  {
   "cell_type": "markdown",
   "metadata": {},
   "source": [
    "## Create a CPLEX model object"
   ]
  },
  {
   "cell_type": "code",
   "execution_count": 5,
   "metadata": {},
   "outputs": [],
   "source": [
    "# create a model object\n",
    "bridge_model = Model(name='bridge+torch')"
   ]
  },
  {
   "cell_type": "markdown",
   "metadata": {},
   "source": [
    "## Decision Variables"
   ]
  },
  {
   "cell_type": "markdown",
   "metadata": {},
   "source": [
    "$x_{it}$: $1$ if person $i \\in I$ crosses the bridge at time $t \\in \\{1, ..., |T|\\}$ and $0$ otherwise "
   ]
  },
  {
   "cell_type": "code",
   "execution_count": 6,
   "metadata": {},
   "outputs": [],
   "source": [
    "x = bridge_model.binary_var_dict(keys = [(i, t) for i in I for t in T[1:]], name=\"x\")"
   ]
  },
  {
   "cell_type": "markdown",
   "metadata": {},
   "source": [
    "$s_{it}$: $1$ if person $i \\in I$ is at the start of the bridge at time $t \\in T$ and $0$ otherwise "
   ]
  },
  {
   "cell_type": "code",
   "execution_count": 7,
   "metadata": {},
   "outputs": [],
   "source": [
    "s = bridge_model.binary_var_dict(keys = [(i, t) for i in I for t in T], name=\"s\")"
   ]
  },
  {
   "cell_type": "markdown",
   "metadata": {},
   "source": [
    "$f_{it}$: $1$ if person $i \\in I$ is at the end (finish line) of the bridge at time $t \\in T$ and $0$ otherwise "
   ]
  },
  {
   "cell_type": "code",
   "execution_count": 8,
   "metadata": {},
   "outputs": [],
   "source": [
    "f = bridge_model.binary_var_dict(keys = [(i, t) for i in I for t in T], name=\"f\")"
   ]
  },
  {
   "cell_type": "markdown",
   "metadata": {},
   "source": [
    "$w_{t}$: The time spent traveling across the bridge at $t \\in \\{1,..|T|\\}$ "
   ]
  },
  {
   "cell_type": "code",
   "execution_count": 9,
   "metadata": {},
   "outputs": [],
   "source": [
    "w = bridge_model.continuous_var_dict(keys = [t for t in T], name=\"w\")"
   ]
  },
  {
   "cell_type": "markdown",
   "metadata": {},
   "source": [
    "## Objective Function"
   ]
  },
  {
   "cell_type": "markdown",
   "metadata": {},
   "source": [
    "Minimize total walking time:\n",
    "\n",
    "$minimize \\quad \\sum_{t = 1}^{|T|} w_{t}$"
   ]
  },
  {
   "cell_type": "code",
   "execution_count": 10,
   "metadata": {},
   "outputs": [],
   "source": [
    "total_walk_time = bridge_model.sum(w[t] for t in T[1:])\n",
    "bridge_model.minimize(total_walk_time)"
   ]
  },
  {
   "cell_type": "markdown",
   "metadata": {},
   "source": [
    "## Constraints"
   ]
  },
  {
   "cell_type": "markdown",
   "metadata": {},
   "source": [
    "Everyone starts at the beginning\n",
    "\n",
    "$s_{i0} = 1, \\quad \\forall i \\in I$"
   ]
  },
  {
   "cell_type": "code",
   "execution_count": 11,
   "metadata": {},
   "outputs": [
    {
     "data": {
      "text/plain": [
       "[docplex.mp.LinearConstraint[](s_A_0,EQ,1),\n",
       " docplex.mp.LinearConstraint[](s_B_0,EQ,1),\n",
       " docplex.mp.LinearConstraint[](s_C_0,EQ,1),\n",
       " docplex.mp.LinearConstraint[](s_D_0,EQ,1)]"
      ]
     },
     "execution_count": 11,
     "metadata": {},
     "output_type": "execute_result"
    }
   ],
   "source": [
    "bridge_model.add_constraints(s[(i,0)] == 1 for i in I)"
   ]
  },
  {
   "cell_type": "markdown",
   "metadata": {},
   "source": [
    "Everyone ends at the end of the bridge/finish line\n",
    "\n",
    "$f_{i|T|} = 1, \\quad \\forall i \\in I$\n",
    "\n"
   ]
  },
  {
   "cell_type": "code",
   "execution_count": 12,
   "metadata": {},
   "outputs": [
    {
     "data": {
      "text/plain": [
       "[docplex.mp.LinearConstraint[](f_A_5,EQ,1),\n",
       " docplex.mp.LinearConstraint[](f_B_5,EQ,1),\n",
       " docplex.mp.LinearConstraint[](f_C_5,EQ,1),\n",
       " docplex.mp.LinearConstraint[](f_D_5,EQ,1)]"
      ]
     },
     "execution_count": 12,
     "metadata": {},
     "output_type": "execute_result"
    }
   ],
   "source": [
    "bridge_model.add_constraints(f[(i,T[-1])] == 1 for i in I)"
   ]
  },
  {
   "cell_type": "markdown",
   "metadata": {},
   "source": [
    "Odd time periods always result in 2 people crossing\n",
    "\n",
    "$\\sum_{i \\in I}x_{it} = 2, \\quad \\forall$ odd $t \\in T$"
   ]
  },
  {
   "cell_type": "code",
   "execution_count": 13,
   "metadata": {},
   "outputs": [
    {
     "data": {
      "text/plain": [
       "[docplex.mp.LinearConstraint[](x_A_1+x_B_1+x_C_1+x_D_1,EQ,2),\n",
       " docplex.mp.LinearConstraint[](x_A_3+x_B_3+x_C_3+x_D_3,EQ,2),\n",
       " docplex.mp.LinearConstraint[](x_A_5+x_B_5+x_C_5+x_D_5,EQ,2)]"
      ]
     },
     "execution_count": 13,
     "metadata": {},
     "output_type": "execute_result"
    }
   ],
   "source": [
    "bridge_model.add_constraints(bridge_model.sum(x[(i,t)] for i in I) == 2 for t in T if t % 2 == 1)"
   ]
  },
  {
   "cell_type": "markdown",
   "metadata": {},
   "source": [
    "Even time periods always result in 1 person crossing\n",
    "\n",
    "$\\sum_{i \\in I}x_{it} = 1, \\quad \\forall$ even nonzero $t \\in T$"
   ]
  },
  {
   "cell_type": "code",
   "execution_count": 14,
   "metadata": {},
   "outputs": [
    {
     "data": {
      "text/plain": [
       "[docplex.mp.LinearConstraint[](x_A_2+x_B_2+x_C_2+x_D_2,EQ,1),\n",
       " docplex.mp.LinearConstraint[](x_A_4+x_B_4+x_C_4+x_D_4,EQ,1)]"
      ]
     },
     "execution_count": 14,
     "metadata": {},
     "output_type": "execute_result"
    }
   ],
   "source": [
    "bridge_model.add_constraints(bridge_model.sum(x[(i,t)] for i in I) == 1 for t in T[1:] if t % 2 == 0)"
   ]
  },
  {
   "cell_type": "markdown",
   "metadata": {},
   "source": [
    "Each person is at the start or end at the end of each time period\n",
    "\n",
    "$s_{it} + f_{it} = 1, \\quad \\forall i \\in i, \\space t \\in T$"
   ]
  },
  {
   "cell_type": "code",
   "execution_count": 15,
   "metadata": {},
   "outputs": [
    {
     "data": {
      "text/plain": [
       "[docplex.mp.LinearConstraint[](s_A_0+f_A_0,EQ,1),\n",
       " docplex.mp.LinearConstraint[](s_A_1+f_A_1,EQ,1),\n",
       " docplex.mp.LinearConstraint[](s_A_2+f_A_2,EQ,1),\n",
       " docplex.mp.LinearConstraint[](s_A_3+f_A_3,EQ,1),\n",
       " docplex.mp.LinearConstraint[](s_A_4+f_A_4,EQ,1),\n",
       " docplex.mp.LinearConstraint[](s_A_5+f_A_5,EQ,1),\n",
       " docplex.mp.LinearConstraint[](s_B_0+f_B_0,EQ,1),\n",
       " docplex.mp.LinearConstraint[](s_B_1+f_B_1,EQ,1),\n",
       " docplex.mp.LinearConstraint[](s_B_2+f_B_2,EQ,1),\n",
       " docplex.mp.LinearConstraint[](s_B_3+f_B_3,EQ,1),\n",
       " docplex.mp.LinearConstraint[](s_B_4+f_B_4,EQ,1),\n",
       " docplex.mp.LinearConstraint[](s_B_5+f_B_5,EQ,1),\n",
       " docplex.mp.LinearConstraint[](s_C_0+f_C_0,EQ,1),\n",
       " docplex.mp.LinearConstraint[](s_C_1+f_C_1,EQ,1),\n",
       " docplex.mp.LinearConstraint[](s_C_2+f_C_2,EQ,1),\n",
       " docplex.mp.LinearConstraint[](s_C_3+f_C_3,EQ,1),\n",
       " docplex.mp.LinearConstraint[](s_C_4+f_C_4,EQ,1),\n",
       " docplex.mp.LinearConstraint[](s_C_5+f_C_5,EQ,1),\n",
       " docplex.mp.LinearConstraint[](s_D_0+f_D_0,EQ,1),\n",
       " docplex.mp.LinearConstraint[](s_D_1+f_D_1,EQ,1),\n",
       " docplex.mp.LinearConstraint[](s_D_2+f_D_2,EQ,1),\n",
       " docplex.mp.LinearConstraint[](s_D_3+f_D_3,EQ,1),\n",
       " docplex.mp.LinearConstraint[](s_D_4+f_D_4,EQ,1),\n",
       " docplex.mp.LinearConstraint[](s_D_5+f_D_5,EQ,1)]"
      ]
     },
     "execution_count": 15,
     "metadata": {},
     "output_type": "execute_result"
    }
   ],
   "source": [
    "bridge_model.add_constraints(s[(i,t)] + f[(i,t)] == 1 for i in I for t in T)"
   ]
  },
  {
   "cell_type": "markdown",
   "metadata": {},
   "source": [
    "The travel time at time $t \\in T$ is the travel time of the slower walker"
   ]
  },
  {
   "cell_type": "markdown",
   "metadata": {},
   "source": [
    "$w_{t} \\ge c_{i}x_{it}, \\quad \\forall i \\in I, \\space t \\in T$"
   ]
  },
  {
   "cell_type": "code",
   "execution_count": 16,
   "metadata": {},
   "outputs": [
    {
     "data": {
      "text/plain": [
       "[docplex.mp.LinearConstraint[](w_1,GE,x_A_1),\n",
       " docplex.mp.LinearConstraint[](w_2,GE,x_A_2),\n",
       " docplex.mp.LinearConstraint[](w_3,GE,x_A_3),\n",
       " docplex.mp.LinearConstraint[](w_4,GE,x_A_4),\n",
       " docplex.mp.LinearConstraint[](w_5,GE,x_A_5),\n",
       " docplex.mp.LinearConstraint[](w_1,GE,2x_B_1),\n",
       " docplex.mp.LinearConstraint[](w_2,GE,2x_B_2),\n",
       " docplex.mp.LinearConstraint[](w_3,GE,2x_B_3),\n",
       " docplex.mp.LinearConstraint[](w_4,GE,2x_B_4),\n",
       " docplex.mp.LinearConstraint[](w_5,GE,2x_B_5),\n",
       " docplex.mp.LinearConstraint[](w_1,GE,5x_C_1),\n",
       " docplex.mp.LinearConstraint[](w_2,GE,5x_C_2),\n",
       " docplex.mp.LinearConstraint[](w_3,GE,5x_C_3),\n",
       " docplex.mp.LinearConstraint[](w_4,GE,5x_C_4),\n",
       " docplex.mp.LinearConstraint[](w_5,GE,5x_C_5),\n",
       " docplex.mp.LinearConstraint[](w_1,GE,8x_D_1),\n",
       " docplex.mp.LinearConstraint[](w_2,GE,8x_D_2),\n",
       " docplex.mp.LinearConstraint[](w_3,GE,8x_D_3),\n",
       " docplex.mp.LinearConstraint[](w_4,GE,8x_D_4),\n",
       " docplex.mp.LinearConstraint[](w_5,GE,8x_D_5)]"
      ]
     },
     "execution_count": 16,
     "metadata": {},
     "output_type": "execute_result"
    }
   ],
   "source": [
    "bridge_model.add_constraints(w[t] >= c[i]*x[(i,t)] for i in I for t in T[1:])\n"
   ]
  },
  {
   "cell_type": "markdown",
   "metadata": {},
   "source": [
    "Logic for connecting x variables to f and p variables\n",
    "\n",
    "$f_{p(t-1)} + x_{pt} = f_{pt}, \\quad \\forall$ odd $t \\in T$\n",
    "\n",
    "$s_{p(t-1)} + x_{pt} = s_{pt}, \\quad \\forall$ nonzero even $t \\in T$"
   ]
  },
  {
   "cell_type": "code",
   "execution_count": 17,
   "metadata": {},
   "outputs": [
    {
     "data": {
      "text/plain": [
       "[docplex.mp.LinearConstraint[](x_A_2+s_A_1,EQ,s_A_2),\n",
       " docplex.mp.LinearConstraint[](x_A_4+s_A_3,EQ,s_A_4),\n",
       " docplex.mp.LinearConstraint[](x_B_2+s_B_1,EQ,s_B_2),\n",
       " docplex.mp.LinearConstraint[](x_B_4+s_B_3,EQ,s_B_4),\n",
       " docplex.mp.LinearConstraint[](x_C_2+s_C_1,EQ,s_C_2),\n",
       " docplex.mp.LinearConstraint[](x_C_4+s_C_3,EQ,s_C_4),\n",
       " docplex.mp.LinearConstraint[](x_D_2+s_D_1,EQ,s_D_2),\n",
       " docplex.mp.LinearConstraint[](x_D_4+s_D_3,EQ,s_D_4)]"
      ]
     },
     "execution_count": 17,
     "metadata": {},
     "output_type": "execute_result"
    }
   ],
   "source": [
    "bridge_model.add_constraints(f[(i,t-1)] + x[(i,t)] == f[(i,t)] for i in I for t in T if t % 2 == 1)\n",
    "bridge_model.add_constraints(s[(i,t-1)] + x[(i,t)] == s[(i,t)] for i in I for t in T[1:] if t % 2 == 0)"
   ]
  },
  {
   "cell_type": "markdown",
   "metadata": {},
   "source": [
    "# Solve the problem"
   ]
  },
  {
   "cell_type": "code",
   "execution_count": 18,
   "metadata": {},
   "outputs": [
    {
     "data": {
      "text/plain": [
       "docplex.mp.solution.SolveSolution(obj=15,values={x_A_1:1,x_A_4:1,x_A_5:1.."
      ]
     },
     "execution_count": 18,
     "metadata": {},
     "output_type": "execute_result"
    }
   ],
   "source": [
    "bridge_model.solve()"
   ]
  },
  {
   "cell_type": "markdown",
   "metadata": {},
   "source": [
    "## Objective Function Value"
   ]
  },
  {
   "cell_type": "code",
   "execution_count": 19,
   "metadata": {},
   "outputs": [
    {
     "data": {
      "text/plain": [
       "15.0"
      ]
     },
     "execution_count": 19,
     "metadata": {},
     "output_type": "execute_result"
    }
   ],
   "source": [
    "bridge_model.solution.objective_value"
   ]
  },
  {
   "cell_type": "markdown",
   "metadata": {},
   "source": [
    "## Who crosses at each time"
   ]
  },
  {
   "cell_type": "code",
   "execution_count": 20,
   "metadata": {},
   "outputs": [
    {
     "data": {
      "text/html": [
       "<div>\n",
       "<style scoped>\n",
       "    .dataframe tbody tr th:only-of-type {\n",
       "        vertical-align: middle;\n",
       "    }\n",
       "\n",
       "    .dataframe tbody tr th {\n",
       "        vertical-align: top;\n",
       "    }\n",
       "\n",
       "    .dataframe thead th {\n",
       "        text-align: right;\n",
       "    }\n",
       "</style>\n",
       "<table border=\"1\" class=\"dataframe\">\n",
       "  <thead>\n",
       "    <tr style=\"text-align: right;\">\n",
       "      <th></th>\n",
       "      <th>Time Period</th>\n",
       "      <th>Person</th>\n",
       "    </tr>\n",
       "  </thead>\n",
       "  <tbody>\n",
       "    <tr>\n",
       "      <th>0</th>\n",
       "      <td>1</td>\n",
       "      <td>A</td>\n",
       "    </tr>\n",
       "    <tr>\n",
       "      <th>5</th>\n",
       "      <td>1</td>\n",
       "      <td>B</td>\n",
       "    </tr>\n",
       "    <tr>\n",
       "      <th>6</th>\n",
       "      <td>2</td>\n",
       "      <td>B</td>\n",
       "    </tr>\n",
       "    <tr>\n",
       "      <th>12</th>\n",
       "      <td>3</td>\n",
       "      <td>C</td>\n",
       "    </tr>\n",
       "    <tr>\n",
       "      <th>17</th>\n",
       "      <td>3</td>\n",
       "      <td>D</td>\n",
       "    </tr>\n",
       "    <tr>\n",
       "      <th>3</th>\n",
       "      <td>4</td>\n",
       "      <td>A</td>\n",
       "    </tr>\n",
       "    <tr>\n",
       "      <th>4</th>\n",
       "      <td>5</td>\n",
       "      <td>A</td>\n",
       "    </tr>\n",
       "    <tr>\n",
       "      <th>9</th>\n",
       "      <td>5</td>\n",
       "      <td>B</td>\n",
       "    </tr>\n",
       "  </tbody>\n",
       "</table>\n",
       "</div>"
      ],
      "text/plain": [
       "    Time Period Person\n",
       "0             1      A\n",
       "5             1      B\n",
       "6             2      B\n",
       "12            3      C\n",
       "17            3      D\n",
       "3             4      A\n",
       "4             5      A\n",
       "9             5      B"
      ]
     },
     "execution_count": 20,
     "metadata": {},
     "output_type": "execute_result"
    }
   ],
   "source": [
    "x_values = bridge_model.solution.get_value_df(x)\n",
    "x_values.loc[x_values.value == 1].rename(columns={\"key_1\":\"Person\",\"key_2\":\"Time Period\"})[[\"Time Period\",\"Person\"]].sort_values('Time Period')"
   ]
  },
  {
   "cell_type": "markdown",
   "metadata": {},
   "source": [
    "## Send Results to JSON"
   ]
  },
  {
   "cell_type": "code",
   "execution_count": 21,
   "metadata": {},
   "outputs": [],
   "source": [
    "bridge_model.solution.export(\"bridge_and_torch_solution.json\")"
   ]
  }
 ],
 "metadata": {
  "kernelspec": {
   "display_name": "Python 3.10.4 ('py_cplex')",
   "language": "python",
   "name": "python3"
  },
  "language_info": {
   "codemirror_mode": {
    "name": "ipython",
    "version": 3
   },
   "file_extension": ".py",
   "mimetype": "text/x-python",
   "name": "python",
   "nbconvert_exporter": "python",
   "pygments_lexer": "ipython3",
   "version": "3.10.4"
  },
  "orig_nbformat": 4,
  "vscode": {
   "interpreter": {
    "hash": "4ad4e50790df1adc290194063a38ddab9b784578b3268fc04e81ab0a0ab2d055"
   }
  }
 },
 "nbformat": 4,
 "nbformat_minor": 2
}
